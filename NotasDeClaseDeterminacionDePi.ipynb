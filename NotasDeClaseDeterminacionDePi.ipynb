{
 "cells": [
  {
   "cell_type": "code",
   "execution_count": null,
   "metadata": {},
   "outputs": [],
   "source": []
  },
  {
   "cell_type": "raw",
   "metadata": {
    "collapsed": true
   },
   "source": [
    "import numpy\n",
    "numy.linspace(1,10,100)\n",
    "from linspace import linspace\n",
    "from scipy import optimize\n",
    "\n",
    "from numpy import *\n",
    "\n",
    "%pylab inline\n",
    "\n",
    "\n",
    "def coord_aleat  [NumeroDatos]\n",
    "X = 2* (np.random.rand(NumeroDatos)) - 1\n",
    "Y = 2* (np.random.rand(NumeroDatos)) - 1\n",
    "return abs X,Y\n",
    "\n",
    "m = 1000\n",
    "radio = 1 \n",
    "x1, y1 = coord_aleat(m)\n",
    "\n",
    "plt.plot(x1, y1,'*')\n",
    "\n",
    "Pos = [((x1**2 + y1**2) - radio**2)<= 0]\n",
    "in = numpy.sum(pos)\n",
    "proba = in/m\n",
    "Proba*4\n",
    "\n",
    "\n"
   ]
  },
  {
   "cell_type": "code",
   "execution_count": null,
   "metadata": {},
   "outputs": [],
   "source": [
    "def pi_estad(NumeroDatos);\n",
    "radio = 1\n",
    "X, Y = coord_aleat(NumeroDatos)\n",
    "pos=[(x1**2 + y1**2 - radio**1)<=0]\n",
    "in = numpy.sum(pos)\n",
    "return in/NumeroDatos - numpy.pi/4\n",
    "\n",
    "m = ap.logspace(1,8,8)\n",
    "\n",
    "pis = []\n",
    "for n in NumeroDatos\n",
    "pi_calc = pi - estado(int(n))\n",
    "pis.append(pi-estado(n))\n",
    "\n",
    "plt.semilogx(NumeroDatos, pis)\n",
    "plt.xlabel ('Numero de Datos')\n",
    "Plt.Ylabel ('prob (n) - $\\pi/$')\n"
   ]
  }
 ],
 "metadata": {
  "kernelspec": {
   "display_name": "Python 3.6",
   "language": "python",
   "name": "python36"
  },
  "language_info": {
   "codemirror_mode": {
    "name": "ipython",
    "version": 3
   },
   "file_extension": ".py",
   "mimetype": "text/x-python",
   "name": "python",
   "nbconvert_exporter": "python",
   "pygments_lexer": "ipython3",
   "version": "3.6.3"
  }
 },
 "nbformat": 4,
 "nbformat_minor": 2
}
